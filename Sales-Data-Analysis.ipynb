{
 "cells": [
  {
   "cell_type": "code",
   "execution_count": 2,
   "metadata": {},
   "outputs": [
    {
     "name": "stdout",
     "output_type": "stream",
     "text": [
      "Data Analysis for Product Sale\n"
     ]
    }
   ],
   "source": [
    "print(\"Data Analysis for Product Sale\")"
   ]
  },
  {
   "cell_type": "code",
   "execution_count": 2,
   "metadata": {},
   "outputs": [],
   "source": [
    "import pandas as pd"
   ]
  },
  {
   "cell_type": "code",
   "execution_count": 3,
   "metadata": {},
   "outputs": [],
   "source": [
    "import numpy as np"
   ]
  },
  {
   "cell_type": "code",
   "execution_count": 4,
   "metadata": {},
   "outputs": [],
   "source": [
    "# Read CSV File - This CSV has data for 1 YR from 2014-10 to 2015-10\n",
    "df = pd.read_csv(\"Sales.csv\")"
   ]
  },
  {
   "cell_type": "code",
   "execution_count": 45,
   "metadata": {},
   "outputs": [
    {
     "data": {
      "text/html": [
       "<div>\n",
       "<style scoped>\n",
       "    .dataframe tbody tr th:only-of-type {\n",
       "        vertical-align: middle;\n",
       "    }\n",
       "\n",
       "    .dataframe tbody tr th {\n",
       "        vertical-align: top;\n",
       "    }\n",
       "\n",
       "    .dataframe thead th {\n",
       "        text-align: right;\n",
       "    }\n",
       "</style>\n",
       "<table border=\"1\" class=\"dataframe\">\n",
       "  <thead>\n",
       "    <tr style=\"text-align: right;\">\n",
       "      <th></th>\n",
       "      <th>Calls Came In</th>\n",
       "      <th>Calls Answered</th>\n",
       "      <th>Sales Pitch offered</th>\n",
       "      <th>Pitch Accepted</th>\n",
       "      <th>Product Sold</th>\n",
       "    </tr>\n",
       "    <tr>\n",
       "      <th>Weekday</th>\n",
       "      <th></th>\n",
       "      <th></th>\n",
       "      <th></th>\n",
       "      <th></th>\n",
       "      <th></th>\n",
       "    </tr>\n",
       "  </thead>\n",
       "  <tbody>\n",
       "    <tr>\n",
       "      <th>Wednesday</th>\n",
       "      <td>7569</td>\n",
       "      <td>5572</td>\n",
       "      <td>1903</td>\n",
       "      <td>967.0</td>\n",
       "      <td>329</td>\n",
       "    </tr>\n",
       "    <tr>\n",
       "      <th>Tuesday</th>\n",
       "      <td>8508</td>\n",
       "      <td>6571</td>\n",
       "      <td>2375</td>\n",
       "      <td>976.0</td>\n",
       "      <td>323</td>\n",
       "    </tr>\n",
       "    <tr>\n",
       "      <th>Thursday</th>\n",
       "      <td>6960</td>\n",
       "      <td>4924</td>\n",
       "      <td>1638</td>\n",
       "      <td>901.0</td>\n",
       "      <td>320</td>\n",
       "    </tr>\n",
       "    <tr>\n",
       "      <th>Monday</th>\n",
       "      <td>10129</td>\n",
       "      <td>7509</td>\n",
       "      <td>2765</td>\n",
       "      <td>1005.0</td>\n",
       "      <td>316</td>\n",
       "    </tr>\n",
       "    <tr>\n",
       "      <th>Friday</th>\n",
       "      <td>7079</td>\n",
       "      <td>4820</td>\n",
       "      <td>1704</td>\n",
       "      <td>843.0</td>\n",
       "      <td>294</td>\n",
       "    </tr>\n",
       "    <tr>\n",
       "      <th>Saturday</th>\n",
       "      <td>5496</td>\n",
       "      <td>3443</td>\n",
       "      <td>1454</td>\n",
       "      <td>821.0</td>\n",
       "      <td>272</td>\n",
       "    </tr>\n",
       "    <tr>\n",
       "      <th>Sunday</th>\n",
       "      <td>4402</td>\n",
       "      <td>2581</td>\n",
       "      <td>1121</td>\n",
       "      <td>656.0</td>\n",
       "      <td>197</td>\n",
       "    </tr>\n",
       "  </tbody>\n",
       "</table>\n",
       "</div>"
      ],
      "text/plain": [
       "           Calls Came In  Calls Answered  Sales Pitch offered  Pitch Accepted  \\\n",
       "Weekday                                                                         \n",
       "Wednesday           7569            5572                 1903           967.0   \n",
       "Tuesday             8508            6571                 2375           976.0   \n",
       "Thursday            6960            4924                 1638           901.0   \n",
       "Monday             10129            7509                 2765          1005.0   \n",
       "Friday              7079            4820                 1704           843.0   \n",
       "Saturday            5496            3443                 1454           821.0   \n",
       "Sunday              4402            2581                 1121           656.0   \n",
       "\n",
       "           Product Sold  \n",
       "Weekday                  \n",
       "Wednesday           329  \n",
       "Tuesday             323  \n",
       "Thursday            320  \n",
       "Monday              316  \n",
       "Friday              294  \n",
       "Saturday            272  \n",
       "Sunday              197  "
      ]
     },
     "execution_count": 45,
     "metadata": {},
     "output_type": "execute_result"
    }
   ],
   "source": [
    "# Find out which weekday is most productive\n",
    "df_grouped = df.groupby(\"Weekday\").sum()\n",
    "#df_grouped.head(7)\n",
    "weekday_sold = df_grouped.sort_values(['Product Sold'], ascending=False)\n",
    "weekday_sold"
   ]
  },
  {
   "cell_type": "code",
   "execution_count": 56,
   "metadata": {},
   "outputs": [
    {
     "data": {
      "image/png": "[encoded data removed]",
      "text/plain": [
       "<Figure size 432x288 with 1 Axes>"
      ]
     },
     "metadata": {
      "needs_background": "light"
     },
     "output_type": "display_data"
    }
   ],
   "source": [
    "import matplotlib.pyplot as plt\n",
    "%matplotlib inline\n",
    "\n",
    "# a bar plot comparing Product Sold and weekday\n",
    "df.plot(kind='bar',x='Weekday',y='Product Sold',color='red')\n",
    "plt.show()"
   ]
  },
  {
   "cell_type": "code",
   "execution_count": 58,
   "metadata": {},
   "outputs": [
    {
     "data": {
      "image/png": "[encoded data removed]",
      "text/plain": [
       "<Figure size 432x288 with 1 Axes>"
      ]
     },
     "metadata": {
      "needs_background": "light"
     },
     "output_type": "display_data"
    }
   ],
   "source": [
    "# a scatter plot comparing Product Sold and Calls Came In\n",
    "df.plot(kind='scatter',x='Calls Came In',y='Product Sold',color='red')\n",
    "plt.show()"
   ]
  },
  {
   "cell_type": "code",
   "execution_count": 78,
   "metadata": {},
   "outputs": [
    {
     "data": {
      "text/plain": [
       "<matplotlib.axes._subplots.AxesSubplot at 0x14b578f0>"
      ]
     },
     "execution_count": 78,
     "metadata": {},
     "output_type": "execute_result"
    },
    {
     "data": {
      "image/png": "[encoded data removed]",
      "text/plain": [
       "<Figure size 432x288 with 2 Axes>"
      ]
     },
     "metadata": {},
     "output_type": "display_data"
    }
   ],
   "source": [
    "import seaborn as sns\n",
    "sns.set()\n",
    "f, axes = plt.subplots(1, 2, sharey=True, figsize=(6, 4))\n",
    "sns.scatterplot(x=\"Product Sold\", y=\"Calls Came In\", hue=\"Weekday\", data=df, ax=axes[0]);\n",
    "sns.boxplot(x=\"Calls Came In\", y=\"Weekday\", data=df, ax=axes[1])"
   ]
  },
  {
   "cell_type": "code",
   "execution_count": 63,
   "metadata": {},
   "outputs": [
    {
     "data": {
      "text/html": [
       "<div>\n",
       "<style scoped>\n",
       "    .dataframe tbody tr th:only-of-type {\n",
       "        vertical-align: middle;\n",
       "    }\n",
       "\n",
       "    .dataframe tbody tr th {\n",
       "        vertical-align: top;\n",
       "    }\n",
       "\n",
       "    .dataframe thead th {\n",
       "        text-align: right;\n",
       "    }\n",
       "</style>\n",
       "<table border=\"1\" class=\"dataframe\">\n",
       "  <thead>\n",
       "    <tr style=\"text-align: right;\">\n",
       "      <th></th>\n",
       "      <th>Calls Came In</th>\n",
       "      <th>Calls Answered</th>\n",
       "      <th>Sales Pitch offered</th>\n",
       "      <th>Pitch Accepted</th>\n",
       "      <th>Product Sold</th>\n",
       "    </tr>\n",
       "    <tr>\n",
       "      <th>Month</th>\n",
       "      <th></th>\n",
       "      <th></th>\n",
       "      <th></th>\n",
       "      <th></th>\n",
       "      <th></th>\n",
       "    </tr>\n",
       "  </thead>\n",
       "  <tbody>\n",
       "    <tr>\n",
       "      <th>October</th>\n",
       "      <td>8092</td>\n",
       "      <td>4935</td>\n",
       "      <td>2037</td>\n",
       "      <td>1188.0</td>\n",
       "      <td>467</td>\n",
       "    </tr>\n",
       "    <tr>\n",
       "      <th>November</th>\n",
       "      <td>5332</td>\n",
       "      <td>3895</td>\n",
       "      <td>1619</td>\n",
       "      <td>736.0</td>\n",
       "      <td>319</td>\n",
       "    </tr>\n",
       "    <tr>\n",
       "      <th>June</th>\n",
       "      <td>2965</td>\n",
       "      <td>2755</td>\n",
       "      <td>895</td>\n",
       "      <td>380.0</td>\n",
       "      <td>182</td>\n",
       "    </tr>\n",
       "    <tr>\n",
       "      <th>February</th>\n",
       "      <td>4491</td>\n",
       "      <td>3033</td>\n",
       "      <td>1281</td>\n",
       "      <td>719.0</td>\n",
       "      <td>178</td>\n",
       "    </tr>\n",
       "    <tr>\n",
       "      <th>May</th>\n",
       "      <td>3297</td>\n",
       "      <td>2884</td>\n",
       "      <td>1009</td>\n",
       "      <td>426.0</td>\n",
       "      <td>157</td>\n",
       "    </tr>\n",
       "    <tr>\n",
       "      <th>January</th>\n",
       "      <td>5312</td>\n",
       "      <td>2717</td>\n",
       "      <td>913</td>\n",
       "      <td>519.0</td>\n",
       "      <td>152</td>\n",
       "    </tr>\n",
       "    <tr>\n",
       "      <th>March</th>\n",
       "      <td>4359</td>\n",
       "      <td>3719</td>\n",
       "      <td>1401</td>\n",
       "      <td>635.0</td>\n",
       "      <td>137</td>\n",
       "    </tr>\n",
       "    <tr>\n",
       "      <th>December</th>\n",
       "      <td>4202</td>\n",
       "      <td>2909</td>\n",
       "      <td>1068</td>\n",
       "      <td>510.0</td>\n",
       "      <td>116</td>\n",
       "    </tr>\n",
       "    <tr>\n",
       "      <th>April</th>\n",
       "      <td>4439</td>\n",
       "      <td>3189</td>\n",
       "      <td>1185</td>\n",
       "      <td>435.0</td>\n",
       "      <td>109</td>\n",
       "    </tr>\n",
       "    <tr>\n",
       "      <th>August</th>\n",
       "      <td>2534</td>\n",
       "      <td>1969</td>\n",
       "      <td>705</td>\n",
       "      <td>244.0</td>\n",
       "      <td>106</td>\n",
       "    </tr>\n",
       "    <tr>\n",
       "      <th>July</th>\n",
       "      <td>2860</td>\n",
       "      <td>2385</td>\n",
       "      <td>818</td>\n",
       "      <td>368.0</td>\n",
       "      <td>102</td>\n",
       "    </tr>\n",
       "    <tr>\n",
       "      <th>September</th>\n",
       "      <td>2260</td>\n",
       "      <td>1030</td>\n",
       "      <td>29</td>\n",
       "      <td>9.0</td>\n",
       "      <td>26</td>\n",
       "    </tr>\n",
       "  </tbody>\n",
       "</table>\n",
       "</div>"
      ],
      "text/plain": [
       "           Calls Came In  Calls Answered  Sales Pitch offered  Pitch Accepted  \\\n",
       "Month                                                                           \n",
       "October             8092            4935                 2037          1188.0   \n",
       "November            5332            3895                 1619           736.0   \n",
       "June                2965            2755                  895           380.0   \n",
       "February            4491            3033                 1281           719.0   \n",
       "May                 3297            2884                 1009           426.0   \n",
       "January             5312            2717                  913           519.0   \n",
       "March               4359            3719                 1401           635.0   \n",
       "December            4202            2909                 1068           510.0   \n",
       "April               4439            3189                 1185           435.0   \n",
       "August              2534            1969                  705           244.0   \n",
       "July                2860            2385                  818           368.0   \n",
       "September           2260            1030                   29             9.0   \n",
       "\n",
       "           Product Sold  \n",
       "Month                    \n",
       "October             467  \n",
       "November            319  \n",
       "June                182  \n",
       "February            178  \n",
       "May                 157  \n",
       "January             152  \n",
       "March               137  \n",
       "December            116  \n",
       "April               109  \n",
       "August              106  \n",
       "July                102  \n",
       "September            26  "
      ]
     },
     "execution_count": 63,
     "metadata": {},
     "output_type": "execute_result"
    }
   ],
   "source": [
    "# Find out which month is most productive\n",
    "df['Month'] = pd.to_datetime(df['Date'])\n",
    "df_month = df.groupby(df['Month'].dt.strftime('%B')).sum()\n",
    "result_month = df_month.sort_values(['Product Sold'], ascending=False)\n",
    "result_month"
   ]
  },
  {
   "cell_type": "code",
   "execution_count": null,
   "metadata": {},
   "outputs": [],
   "source": []
  },
  {
   "cell_type": "code",
   "execution_count": null,
   "metadata": {},
   "outputs": [],
   "source": []
  }
 ],
 "metadata": {
  "kernelspec": {
   "display_name": "Python 3",
   "language": "python",
   "name": "python3"
  },
  "language_info": {
   "codemirror_mode": {
    "name": "ipython",
    "version": 3
   },
   "file_extension": ".py",
   "mimetype": "text/x-python",
   "name": "python",
   "nbconvert_exporter": "python",
   "pygments_lexer": "ipython3",
   "version": "3.7.3"
  }
 },
 "nbformat": 4,
 "nbformat_minor": 2
}
